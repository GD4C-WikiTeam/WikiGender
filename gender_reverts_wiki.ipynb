{
 "metadata": {
  "name": "gender_reverts_wiki.ipynb",
  "signature": "sha256:6b5cf3f0dda4451d6114dffd3cccfc10df5ac2dbfdf377a77cee40fc8b116ffa"
 },
 "nbformat": 3,
 "nbformat_minor": 0,
 "worksheets": [
  {
   "cells": [
    {
     "cell_type": "code",
     "collapsed": false,
     "input": [
      "from wikitools import wiki, api\n",
      "import networkx as nx\n",
      "from operator import itemgetter\n",
      "from collections import Counter\n",
      "import re, random, datetime, urlparse, urllib2, simplejson, copy\n",
      "import pandas as pd"
     ],
     "language": "python",
     "metadata": {},
     "outputs": [],
     "prompt_number": 3
    },
    {
     "cell_type": "heading",
     "level": 1,
     "metadata": {},
     "source": [
      "Basic functions"
     ]
    },
    {
     "cell_type": "code",
     "collapsed": false,
     "input": [
      "def is_ip(ip_string, masked=False):\n",
      "\t# '''\n",
      "\t# Input:\n",
      "\t# ip_string - A string we'd like to check if it matches the pattern of a valid IP address.\n",
      "\t# Output:\n",
      "\t# A boolean value indicating whether the input was a valid IP address.\n",
      "\t# '''\n",
      "\tif not isinstance(ip_string, str) and not isinstance(ip_string, unicode):\n",
      "\t\treturn False\n",
      "\tif masked:\n",
      "\t\tip_pattern = re.compile('((([\\d]{1,3})|([Xx]{1,3}))\\.){3}(([\\d]{1,3})|([Xx]{1,3}))', re.UNICODE)\n",
      "\telse:\n",
      "\t\tip_pattern = re.compile('([\\d]{1,3}\\.){3}([\\d]{1,3})', re.UNICODE)\n",
      "\tif ip_pattern.match(ip_string):\n",
      "\t\treturn True\n",
      "\telse:\n",
      "\t\treturn False\n",
      "\n",
      "def convert_to_datetime(string):\n",
      "    dt = datetime.datetime.strptime(string,'%Y-%m-%dT%H:%M:%SZ')\n",
      "    return dt\n",
      "    \n",
      "def convert_from_datetime(dt):\n",
      "    string = dt.strftime('%Y%m%d%H%M%S')\n",
      "    return string\n",
      "\n",
      "def convert_datetime_to_epoch(dt):\n",
      "    epochtime = (dt - datetime.datetime(1970,1,1)).total_seconds()\n",
      "    return epochtime\n",
      "\n",
      "def wikipedia_query(query_params,lang='en'):\n",
      "\tsite = wiki.Wiki(url='http://'+lang+'.wikipedia.org/w/api.php')\n",
      "\trequest = api.APIRequest(site, query_params)\n",
      "\tresult = request.query()\n",
      "\treturn result[query_params['action']]\n",
      "\n",
      "def short_wikipedia_query(query_params,lang='en'):\n",
      "\tsite = wiki.Wiki(url='http://'+lang+'.wikipedia.org/w/api.php')\n",
      "\trequest = api.APIRequest(site, query_params)\n",
      "\t# Don't do multiple requests\n",
      "\tresult = request.query(querycontinue=False)\n",
      "\treturn result[query_params['action']]\n",
      "\n",
      "def random_string(le, letters=True, numerals=False):\n",
      "\tdef rc():\n",
      "\t\tcharset = []\n",
      "\t\tcr = lambda x,y: range(ord(x), ord(y) + 1)\n",
      "\t\tif letters:\n",
      "\t\t\tcharset += cr('a', 'z')\n",
      "\t\tif numerals:\n",
      "\t\t\tcharset += cr('0', '9')\n",
      "\t\treturn chr(random.choice(charset))\n",
      "\tdef rcs(k):\n",
      "\t\treturn [rc() for i in range(k)]\n",
      "\treturn ''.join(rcs(le))\n",
      "\n",
      "def clean_revision(rev):\n",
      "\t# We must deal with some malformed user/userid values. Some \n",
      "\t# revisions have the following problems:\n",
      "\t# 1. no 'user' or 'userid' keys and the existence of the 'userhidden' key\n",
      "\t# 2. 'userid'=='0' and 'user'=='Conversion script' and 'anon'==''\n",
      "\t# 3. 'userid'=='0' and 'user'=='66.92.166.xxx' and 'anon'==''\n",
      "\t# 4. 'userid'=='0' and 'user'=='204.55.21.34' and 'anon'==''\n",
      "\t# In these cases, we must substitute a placeholder value\n",
      "\t# for 'userid' to uniquely identify the respective kind\n",
      "\t# of malformed revision as above. \n",
      "\trevision = rev.copy()\n",
      "\tif 'userhidden' in revision:\n",
      "\t\trevision['user'] = random_string(15, letters=False, numerals=True)\n",
      "\t\trevision['userid'] = revision['user']\n",
      "\telif 'anon' in revision:\n",
      "\t\tif revision['user']=='Conversion script':\n",
      "\t\t\trevision['user'] = random_string(14, letters=False, numerals=True)\n",
      "\t\t\trevision['userid'] = revision['user']\n",
      "\t\telif is_ip(revision['user']):\n",
      "\t\t\t# Just leaving this reflection in for consistency\n",
      "\t\t\trevision['user'] = revision['user']\n",
      "\t\t\t# The weird stuff about multiplying '0' by a number is to \n",
      "\t\t\t# make sure that IP addresses end up looking like this:\n",
      "\t\t\t# 192.168.1.1 -> 192168001001\n",
      "\t\t\t# This serves to prevent collisions if the numbers were\n",
      "\t\t\t# simply joined by removing the periods:\n",
      "\t\t\t# 215.1.67.240 -> 215167240\n",
      "\t\t\t# 21.51.67.240 -> 215167240\n",
      "\t\t\t# This also results in the number being exactly 12 decimal digits.\n",
      "\t\t\trevision['userid'] = ''.join(['0' * (3 - len(octet)) + octet \\\n",
      "\t\t\t\t\t\t\t\t\t\t\tfor octet in revision['user'].split('.')])\n",
      "\t\telif is_ip(revision['user'], masked=True):\n",
      "\t\t\t# Let's distinguish masked IP addresses, like\n",
      "\t\t\t# 192.168.1.xxx or 255.XXX.XXX.XXX, by setting \n",
      "\t\t\t# 'user'/'userid' both to a random 13 digit number\n",
      "\t\t\t# or 13 character string. \n",
      "\t\t\t# This will probably be unique and easily \n",
      "\t\t\t# distinguished from an IP address (with 12 digits\n",
      "\t\t\t# or characters). \n",
      "\t\t\trevision['user'] = random_string(13, letters=False, numerals=True)\n",
      "\t\t\trevision['userid'] = revision['user']\n",
      "\treturn revision\n",
      "\n",
      "def cast_to_unicode(string):\n",
      "    if isinstance(string,str):\n",
      "        try:\n",
      "            string2 = string.decode('utf8')\n",
      "        except:\n",
      "            try:\n",
      "                string2 = string.decode('latin1')\n",
      "            except:\n",
      "                print \"Some messed up encoding here\"\n",
      "    elif isinstance(string,unicode):\n",
      "        string2 = string\n",
      "    return string2"
     ],
     "language": "python",
     "metadata": {},
     "outputs": [],
     "prompt_number": 4
    },
    {
     "cell_type": "heading",
     "level": 1,
     "metadata": {},
     "source": [
      "User revision and details"
     ]
    },
    {
     "cell_type": "code",
     "collapsed": false,
     "input": [
      "def get_user_revisions(user,dt_end,lang):\n",
      "    '''\n",
      "    Input: \n",
      "    user - The name of a wikipedia user with no \"User:\" prefix, e.g. 'Madcoverboy' \n",
      "    dt_end - a datetime object indicating the maximum datetime to return for revisions\n",
      "    lang - a string (typically two characters) indicating the language version of Wikipedia to crawl\n",
      "\n",
      "    Output:\n",
      "    revisions - A list of revisions for the given article, each given as a dictionary. This will\n",
      "            include all properties as described by revision_properties, and will also include the\n",
      "            title and id of the source article. \n",
      "    '''\n",
      "    user = cast_to_unicode(user)\n",
      "    revisions = list()\n",
      "    dt_end_string = convert_from_datetime(dt_end)\n",
      "    result = wikipedia_query({'action':'query',\n",
      "                              'list': 'usercontribs',\n",
      "                              'ucuser': u\"User:\"+user,\n",
      "                              'ucprop': 'ids|title|timestamp|sizediff',\n",
      "                              #'ucnamespace':'0',\n",
      "                              'uclimit': '500',\n",
      "                              'ucend':dt_end_string},lang)\n",
      "    if result and 'usercontribs' in result.keys():\n",
      "            r = result['usercontribs']\n",
      "            r = sorted(r, key=lambda revision: revision['timestamp'])\n",
      "            for revision in r:\n",
      "                    # Sometimes the size key is not present, so we'll set it to 0 in those cases\n",
      "                    revision['sizediff'] = revision.get('sizediff', 0)\n",
      "                    revision['timestamp'] = convert_to_datetime(revision['timestamp'])\n",
      "                    revisions.append(revision)\n",
      "    return revisions\n",
      "\n",
      "def get_user_properties(user,lang):\n",
      "    '''\n",
      "    Input:\n",
      "    user - a string with no \"User:\" prefix corresponding to the username (\"Madcoverboy\"\n",
      "    lang - a string (usually two digits) for the language version of Wikipedia to query\n",
      "\n",
      "    Output:\n",
      "    result - a dictionary containing attrubutes about the user\n",
      "    '''\n",
      "    user = cast_to_unicode(user)\n",
      "    result = wikipedia_query({'action':'query',\n",
      "                                'list':'users',\n",
      "                                'usprop':'blockinfo|groups|editcount|registration|gender',\n",
      "                                'ususers':user},lang)\n",
      "    return result\n",
      "    \n",
      "def make_user_alters(revisions):\n",
      "    '''\n",
      "    Input:\n",
      "    revisions - a list of revisions generated by get_user_revisions\n",
      "\n",
      "    Output:\n",
      "    alters - a dictionary keyed by page name that returns a dictionary containing\n",
      "        the count of how many times the user edited the page, the timestamp of the user's\n",
      "        earliest edit to the page, the timestamp the user's latest edit to the page, and \n",
      "        the namespace of the page itself\n",
      "    '''\n",
      "    alters = dict()\n",
      "    for rev in revisions:\n",
      "        if rev['title'] not in alters.keys():\n",
      "            alters[rev['title']] = dict()\n",
      "            alters[rev['title']]['count'] = 1\n",
      "            alters[rev['title']]['min_timestamp'] = rev['timestamp']\n",
      "            alters[rev['title']]['max_timestamp'] = rev['timestamp']\n",
      "            alters[rev['title']]['ns'] = rev['ns']\n",
      "        else:\n",
      "            alters[rev['title']]['count'] += 1\n",
      "            alters[rev['title']]['max_timestamp'] = rev['timestamp']\n",
      "    return alters"
     ],
     "language": "python",
     "metadata": {},
     "outputs": [],
     "prompt_number": 5
    },
    {
     "cell_type": "heading",
     "level": 1,
     "metadata": {},
     "source": [
      "Page revisions"
     ]
    },
    {
     "cell_type": "code",
     "collapsed": false,
     "input": [
      "def rename_on_redirect(article_title,lang='en'):\n",
      "    '''\n",
      "    Input:\n",
      "    article_title - a string with the name of the article or page that may be redirected to another title\n",
      "    lang - a string (typically two characters) indicating the language version of Wikipedia to crawl\n",
      "\n",
      "    Output:\n",
      "    article_title - a string with the name of the article or page that the redirect resolves to\n",
      "    '''\n",
      "    result = wikipedia_query({'titles': article_title,\n",
      "                                  'prop': 'info',\n",
      "                                  'action': 'query',\n",
      "                                  'redirects': 'True'},lang)\n",
      "    if 'redirects' in result.keys() and 'pages' in result.keys():\n",
      "        article_title = result['redirects'][0]['to']\n",
      "    return article_title\n",
      "\n",
      "def get_page_revisions(article_title,dt_start,dt_end,lang):\n",
      "    '''\n",
      "    Input: \n",
      "    article - A string with the name of the article or page to crawl\n",
      "    dt_start - A datetime object indicating the minimum datetime to return for revisions\n",
      "    dt_end - a datetime object indicating the maximum datetime to return for revisions\n",
      "    lang - a string (typically two characters) indicating the language version of Wikipedia to crawl\n",
      "    \n",
      "    Output:\n",
      "    revisions - A list of revisions for the given article, each given as a dictionary. This will\n",
      "            include all properties as described by revision_properties, and will also include the\n",
      "            title and id of the source article. \n",
      "    '''\n",
      "    article_title = rename_on_redirect(article_title)\n",
      "    dt_start_string = convert_from_datetime(dt_start)\n",
      "    dt_end_string = convert_from_datetime(dt_end) \n",
      "    revisions = list()\n",
      "    result = wikipedia_query({'titles': article_title,\n",
      "                              'prop': 'revisions',\n",
      "                              'rvprop': 'ids|timestamp|user|userid|size',\n",
      "                              'rvlimit': '5000',\n",
      "                              'rvstart': dt_start_string,\n",
      "                              'rvend': dt_end_string,\n",
      "                              'rvdir': 'newer',\n",
      "                              'action': 'query'},lang)\n",
      "    if result and 'pages' in result.keys():\n",
      "            page_number = result['pages'].keys()[0]\n",
      "            try:\n",
      "                r = result['pages'][page_number]['revisions']\n",
      "                for revision in r:\n",
      "                        revision['pageid'] = page_number\n",
      "                        revision['title'] = result['pages'][page_number]['title']\n",
      "                        # Sometimes the size key is not present, so we'll set it to 0 in those cases\n",
      "                        revision['size'] = revision.get('size', 0)\n",
      "                        revision['timestamp'] = convert_to_datetime(revision['timestamp'])\n",
      "                        revisions.append(revision)\n",
      "            except KeyError:\n",
      "                revisions = list()\n",
      "    return revisions\n",
      "\n",
      "def make_page_alters(revisions):\n",
      "    '''\n",
      "    Input:\n",
      "    revisions - a list of revisions generated by get_page_revisions\n",
      "\n",
      "    Output:\n",
      "    alters - a dictionary keyed by user name that returns a dictionary containing\n",
      "    the count of how many times the user edited the page, the timestamp of the user's\n",
      "    earliest edit to the page, the timestamp the user's latest edit to the page, and \n",
      "    the namespace of the page itself\n",
      "    '''\n",
      "    alters = dict()\n",
      "    for rev in revisions:\n",
      "        if rev['user'] not in alters.keys():\n",
      "            alters[rev['user']] = dict()\n",
      "            alters[rev['user']]['count'] = 1\n",
      "            alters[rev['user']]['min_timestamp'] = rev['timestamp']\n",
      "            alters[rev['user']]['max_timestamp'] = rev['timestamp']\n",
      "        else:\n",
      "            alters[rev['user']]['count'] += 1\n",
      "            alters[rev['user']]['max_timestamp'] = rev['timestamp']\n",
      "    return alters"
     ],
     "language": "python",
     "metadata": {},
     "outputs": [],
     "prompt_number": 6
    },
    {
     "cell_type": "heading",
     "level": 1,
     "metadata": {},
     "source": [
      "Categories"
     ]
    },
    {
     "cell_type": "code",
     "collapsed": false,
     "input": [
      "def get_category_members(category_name, depth, lang='en'):\n",
      "    '''\n",
      "    Input: \n",
      "    category_name - The name of a Wikipedia(en) category, e.g. 'Category:2001_fires'. \n",
      "    depth - An integer in the range [0,n) reflecting the number of sub-categories to crawl\n",
      "    lang - A string (typically two-digits) corresponding to the language code for the Wikipedia to crawl\n",
      "\n",
      "    Output:\n",
      "    articles - A list of articles that are found within the given category or one of its\n",
      "        subcategories, explored recursively. Each article will be a dictionary object with\n",
      "        the keys 'title' and 'id' with the values of the individual article's title and \n",
      "        page_id respectively. \n",
      "    '''\n",
      "    articles = []\n",
      "    if depth < 0:\n",
      "        return articles\n",
      "    \n",
      "    #Begin crawling articles in category\n",
      "    results = wikipedia_query({'list': 'categorymembers',\n",
      "                                   'cmtitle': category_name,\n",
      "                                   'cmtype': 'page',\n",
      "                                   'cmlimit': '500',\n",
      "                                   'action': 'query'},lang)  \n",
      "    if 'categorymembers' in results.keys() and len(results['categorymembers']) > 0:\n",
      "        for i, page in enumerate(results['categorymembers']):\n",
      "            article = page['title']\n",
      "            articles.append(article)\n",
      "    \n",
      "    # Begin crawling subcategories\n",
      "    results = wikipedia_query({'list': 'categorymembers',\n",
      "                                   'cmtitle': category_name,\n",
      "                                   'cmtype': 'subcat',\n",
      "                                   'cmlimit': '500',\n",
      "                                   'action': 'query'},lang)\n",
      "    subcategories = []\n",
      "    if 'categorymembers' in results.keys() and len(results['categorymembers']) > 0:\n",
      "        for i, category in enumerate(results['categorymembers']):\n",
      "            cat_title = category['title']\n",
      "            subcategories.append(cat_title)\n",
      "    for category in subcategories:\n",
      "        articles += get_category_members(category,depth-1)      \n",
      "    return articles\n",
      "\n",
      "def get_page_categories(page_title,lang='en'):\n",
      "    '''\n",
      "    Input:\n",
      "    page_title - A string with the name of the article or page to crawl\n",
      "    lang - A string (typically two-digits) corresponding to the language code for the Wikipedia to crawl\n",
      "\n",
      "    Output:\n",
      "    categories - A list of the names of the categories of which the page is a member\n",
      "    '''\n",
      "    page_title = rename_on_redirect(page_title)\n",
      "    results = wikipedia_query({'prop': 'categories',\n",
      "                                   'titles': page_title,\n",
      "                                   'cllimit': '500',\n",
      "                                   'clshow':'!hidden',\n",
      "                                   'action': 'query'},lang)\n",
      "    if 'pages' in results.keys():\n",
      "        page_number = results['pages'].keys()[0]\n",
      "        categories = results['pages'][page_number]['categories']\n",
      "        categories = [i['title'] for i in categories]\n",
      "        categories = [i for i in categories if i != u'Category:Living people']\n",
      "    else:\n",
      "        print u\"{0} not found in category results\".format(page_title)\n",
      "    return categories"
     ],
     "language": "python",
     "metadata": {},
     "outputs": [],
     "prompt_number": 7
    },
    {
     "cell_type": "heading",
     "level": 1,
     "metadata": {},
     "source": [
      "Data call"
     ]
    },
    {
     "cell_type": "code",
     "collapsed": false,
     "input": [
      "import datetime\n",
      "# Define categories to visit in each of the wikis\n",
      "categories = {\n",
      "    # German\n",
      "#    \"de\": [ \"Kategorie:Kultur\" ], # For some reason, the API returns a fault in here, even though this works:\n",
      "#    https://de.wikipedia.org/w/api.php?action=query&list=categorymembers&cmtitle=Kategorie:Kultur\n",
      "    # Portuguese\n",
      "    \"pt\": [ \"Categoria:F\u00edsicas\", \"Categoria:Astr\u00f4nomas\" ]\n",
      "}\n",
      "\n",
      "# Define ranges\n",
      "datestart = datetime.datetime.now() - datetime.timedelta( 2*365 )\n",
      "dateend = datetime.datetime.now()\n",
      "\n",
      "revisions = {}\n",
      "users = {}\n",
      "counter_male = 0\n",
      "counter_female = 0\n",
      "counter_other = 0\n",
      "counter_unknown = 0\n",
      "\n",
      "## Go over categories in the Wikipedias ##\n",
      "\n",
      "# Iterate through languages\n",
      "for lang in categories:\n",
      "    print '-- Wikipedia: ' + lang + ' --'\n",
      "    # Go over given categories\n",
      "    for cat in categories[lang]:\n",
      "        category_members = {}\n",
      "        print ' >> '+ cat + ' <<'\n",
      "        try:\n",
      "            # Some categories return as invalid, hence the try/except block\n",
      "            # at least until we can figure out what is wrong with the API\n",
      "            category_members = get_category_members( cat, 1, lang )\n",
      "        except:\n",
      "            # Debugging purposes in case of failure\n",
      "            print \"-----\"\n",
      "            print \"(FAIL)\"\n",
      "            print \"cat: \" + cat\n",
      "            print \"lang: \" + lang\n",
      "            print category_members\n",
      "            print \"-----\"\n",
      "\n",
      "        # Go over pages in category\n",
      "        for member in category_members:\n",
      "            print ' ' + member\n",
      "            # Different categories can include the same page\n",
      "            # skip if we've already been to that page\n",
      "            if ( member not in revisions ):\n",
      "                # Revisions in page\n",
      "                revisions[member] = get_page_revisions( member, datestart, dateend, \"pt\" )\n",
      "                print \" - revisions: \" + str(len(revisions[member]))\n",
      "                for rev in revisions[member]:\n",
      "                    # Get user info\n",
      "                    api_users = get_user_properties(rev['user'],\"pt\")\n",
      "                    user = api_users[\"users\"][0]\n",
      "                    if \"gender\" in user:\n",
      "                        print \" - gender: \" + user['gender'];\n",
      "                        if user['gender'] == \"male\":\n",
      "                            counter_male += 1\n",
      "                        elif user[\"gender\"] == \"female\":\n",
      "                            counter_female += 1\n",
      "                        else:\n",
      "                            counter_other +=1\n",
      "                    else:\n",
      "                        counter_unknown += 1\n",
      "            else:\n",
      "                # This is just for testing to see that we're skipping duplicate\n",
      "                # mentions of the same pages\n",
      "                print \"*** Duplicate page skipped: \" + member\n",
      "\n",
      "    # Counters\n",
      "    counter_total = counter_male + counter_female + counter_other + counter_unknown\n",
      "\n",
      "    print \"\"\n",
      "    print \"Language: \" + lang\n",
      "    print \"-----\"\n",
      "    print \"m: \" + str(counter_male);\n",
      "    print \"f: \" + str( counter_female)\n",
      "    print \"other: \"  + str(counter_other)\n",
      "    print \"unknown: \"  + str(counter_unknown)\n",
      "\n",
      "    print \"total: \" + str(counter_total)\n",
      "    print ''"
     ],
     "language": "python",
     "metadata": {},
     "outputs": [
      {
       "output_type": "stream",
       "stream": "stdout",
       "text": [
        "-- Wikipedia: pt --\n",
        " >> Categoria:F\u00edsicas <<\n",
        " Gisela Anton"
       ]
      },
      {
       "output_type": "stream",
       "stream": "stdout",
       "text": [
        "\n",
        " - revisions: 1"
       ]
      },
      {
       "output_type": "stream",
       "stream": "stdout",
       "text": [
        "\n",
        " - gender: male"
       ]
      },
      {
       "output_type": "stream",
       "stream": "stdout",
       "text": [
        "\n",
        " Jocelyn Bell Burnell\n",
        " - revisions: 8"
       ]
      },
      {
       "output_type": "stream",
       "stream": "stdout",
       "text": [
        "\n",
        " - gender: male"
       ]
      },
      {
       "output_type": "stream",
       "stream": "stdout",
       "text": [
        "\n",
        " - gender: male"
       ]
      },
      {
       "output_type": "stream",
       "stream": "stdout",
       "text": [
        "\n",
        " - gender: male"
       ]
      },
      {
       "output_type": "stream",
       "stream": "stdout",
       "text": [
        "\n",
        " - gender: unknown"
       ]
      },
      {
       "output_type": "stream",
       "stream": "stdout",
       "text": [
        "\n",
        " - gender: male"
       ]
      },
      {
       "output_type": "stream",
       "stream": "stdout",
       "text": [
        "\n",
        " - gender: male"
       ]
      },
      {
       "output_type": "stream",
       "stream": "stdout",
       "text": [
        "\n",
        " Katharine Burr Blodgett\n",
        " - revisions: 3"
       ]
      },
      {
       "output_type": "stream",
       "stream": "stdout",
       "text": [
        "\n",
        " - gender: unknown"
       ]
      },
      {
       "output_type": "stream",
       "stream": "stdout",
       "text": [
        "\n",
        " - gender: male"
       ]
      },
      {
       "output_type": "stream",
       "stream": "stdout",
       "text": [
        "\n",
        " - gender: unknown"
       ]
      },
      {
       "output_type": "stream",
       "stream": "stdout",
       "text": [
        "\n",
        " \u00c9milie du Ch\u00e2telet\n",
        " - revisions: 3"
       ]
      },
      {
       "output_type": "stream",
       "stream": "stdout",
       "text": [
        "\n",
        " - gender: male"
       ]
      },
      {
       "output_type": "stream",
       "stream": "stdout",
       "text": [
        "\n",
        " - gender: male"
       ]
      },
      {
       "output_type": "stream",
       "stream": "stdout",
       "text": [
        "\n",
        " - gender: unknown"
       ]
      },
      {
       "output_type": "stream",
       "stream": "stdout",
       "text": [
        "\n",
        " Marie Curie\n",
        " - revisions: 112"
       ]
      },
      {
       "output_type": "stream",
       "stream": "stdout",
       "text": [
        "\n",
        " - gender: unknown"
       ]
      },
      {
       "output_type": "stream",
       "stream": "stdout",
       "text": [
        "\n",
        " - gender: unknown"
       ]
      },
      {
       "output_type": "stream",
       "stream": "stdout",
       "text": [
        "\n",
        " - gender: unknown"
       ]
      },
      {
       "output_type": "stream",
       "stream": "stdout",
       "text": [
        "\n",
        " - gender: male"
       ]
      },
      {
       "output_type": "stream",
       "stream": "stdout",
       "text": [
        "\n",
        " - gender: unknown"
       ]
      },
      {
       "output_type": "stream",
       "stream": "stdout",
       "text": [
        "\n",
        " - gender: unknown"
       ]
      },
      {
       "output_type": "stream",
       "stream": "stdout",
       "text": [
        "\n",
        " - gender: unknown"
       ]
      },
      {
       "output_type": "stream",
       "stream": "stdout",
       "text": [
        "\n",
        " - gender: unknown"
       ]
      },
      {
       "output_type": "stream",
       "stream": "stdout",
       "text": [
        "\n",
        " - gender: unknown"
       ]
      },
      {
       "output_type": "stream",
       "stream": "stdout",
       "text": [
        "\n",
        " - gender: unknown"
       ]
      },
      {
       "output_type": "stream",
       "stream": "stdout",
       "text": [
        "\n",
        " - gender: unknown"
       ]
      },
      {
       "output_type": "stream",
       "stream": "stdout",
       "text": [
        "\n",
        " - gender: male"
       ]
      },
      {
       "output_type": "stream",
       "stream": "stdout",
       "text": [
        "\n",
        " - gender: male"
       ]
      },
      {
       "output_type": "stream",
       "stream": "stdout",
       "text": [
        "\n",
        " - gender: unknown"
       ]
      },
      {
       "output_type": "stream",
       "stream": "stdout",
       "text": [
        "\n",
        " - gender: unknown"
       ]
      },
      {
       "output_type": "stream",
       "stream": "stdout",
       "text": [
        "\n",
        " - gender: unknown"
       ]
      },
      {
       "output_type": "stream",
       "stream": "stdout",
       "text": [
        "\n",
        " - gender: unknown"
       ]
      },
      {
       "output_type": "stream",
       "stream": "stdout",
       "text": [
        "\n",
        " - gender: unknown"
       ]
      },
      {
       "output_type": "stream",
       "stream": "stdout",
       "text": [
        "\n",
        " - gender: male"
       ]
      },
      {
       "output_type": "stream",
       "stream": "stdout",
       "text": [
        "\n",
        " - gender: unknown"
       ]
      },
      {
       "output_type": "stream",
       "stream": "stdout",
       "text": [
        "\n",
        " - gender: male"
       ]
      },
      {
       "output_type": "stream",
       "stream": "stdout",
       "text": [
        "\n",
        " - gender: male"
       ]
      },
      {
       "output_type": "stream",
       "stream": "stdout",
       "text": [
        "\n",
        " - gender: female"
       ]
      },
      {
       "output_type": "stream",
       "stream": "stdout",
       "text": [
        "\n",
        " - gender: male"
       ]
      },
      {
       "output_type": "stream",
       "stream": "stdout",
       "text": [
        "\n",
        " - gender: female"
       ]
      },
      {
       "output_type": "stream",
       "stream": "stdout",
       "text": [
        "\n",
        " - gender: male"
       ]
      },
      {
       "output_type": "stream",
       "stream": "stdout",
       "text": [
        "\n",
        " - gender: male"
       ]
      },
      {
       "output_type": "stream",
       "stream": "stdout",
       "text": [
        "\n",
        " - gender: male"
       ]
      },
      {
       "output_type": "stream",
       "stream": "stdout",
       "text": [
        "\n",
        " - gender: male"
       ]
      },
      {
       "output_type": "stream",
       "stream": "stdout",
       "text": [
        "\n",
        " - gender: male"
       ]
      },
      {
       "output_type": "stream",
       "stream": "stdout",
       "text": [
        "\n",
        " - gender: male"
       ]
      },
      {
       "output_type": "stream",
       "stream": "stdout",
       "text": [
        "\n",
        " - gender: male"
       ]
      },
      {
       "output_type": "stream",
       "stream": "stdout",
       "text": [
        "\n",
        " - gender: unknown"
       ]
      },
      {
       "output_type": "stream",
       "stream": "stdout",
       "text": [
        "\n",
        " - gender: male"
       ]
      },
      {
       "output_type": "stream",
       "stream": "stdout",
       "text": [
        "\n",
        " - gender: unknown"
       ]
      },
      {
       "output_type": "stream",
       "stream": "stdout",
       "text": [
        "\n",
        " - gender: unknown"
       ]
      },
      {
       "output_type": "stream",
       "stream": "stdout",
       "text": [
        "\n",
        " - gender: male"
       ]
      },
      {
       "output_type": "stream",
       "stream": "stdout",
       "text": [
        "\n",
        " - gender: unknown"
       ]
      },
      {
       "output_type": "stream",
       "stream": "stdout",
       "text": [
        "\n",
        " - gender: unknown"
       ]
      },
      {
       "output_type": "stream",
       "stream": "stdout",
       "text": [
        "\n",
        " - gender: female"
       ]
      },
      {
       "output_type": "stream",
       "stream": "stdout",
       "text": [
        "\n",
        " - gender: female"
       ]
      },
      {
       "output_type": "stream",
       "stream": "stdout",
       "text": [
        "\n",
        " - gender: male"
       ]
      },
      {
       "output_type": "stream",
       "stream": "stdout",
       "text": [
        "\n",
        " - gender: male"
       ]
      },
      {
       "output_type": "stream",
       "stream": "stdout",
       "text": [
        "\n",
        " - gender: male"
       ]
      },
      {
       "output_type": "stream",
       "stream": "stdout",
       "text": [
        "\n",
        " - gender: unknown"
       ]
      },
      {
       "output_type": "stream",
       "stream": "stdout",
       "text": [
        "\n",
        " - gender: unknown"
       ]
      },
      {
       "output_type": "stream",
       "stream": "stdout",
       "text": [
        "\n",
        " - gender: male"
       ]
      },
      {
       "output_type": "stream",
       "stream": "stdout",
       "text": [
        "\n",
        " - gender: male"
       ]
      },
      {
       "output_type": "stream",
       "stream": "stdout",
       "text": [
        "\n",
        " - gender: male"
       ]
      },
      {
       "output_type": "stream",
       "stream": "stdout",
       "text": [
        "\n",
        " - gender: male"
       ]
      },
      {
       "output_type": "stream",
       "stream": "stdout",
       "text": [
        "\n",
        " - gender: male"
       ]
      },
      {
       "output_type": "stream",
       "stream": "stdout",
       "text": [
        "\n",
        " - gender: male"
       ]
      },
      {
       "output_type": "stream",
       "stream": "stdout",
       "text": [
        "\n",
        " - gender: male"
       ]
      },
      {
       "output_type": "stream",
       "stream": "stdout",
       "text": [
        "\n",
        " - gender: male"
       ]
      },
      {
       "output_type": "stream",
       "stream": "stdout",
       "text": [
        "\n",
        " - gender: unknown"
       ]
      },
      {
       "output_type": "stream",
       "stream": "stdout",
       "text": [
        "\n",
        " - gender: unknown"
       ]
      },
      {
       "output_type": "stream",
       "stream": "stdout",
       "text": [
        "\n",
        " - gender: unknown"
       ]
      },
      {
       "output_type": "stream",
       "stream": "stdout",
       "text": [
        "\n",
        " - gender: unknown"
       ]
      },
      {
       "output_type": "stream",
       "stream": "stdout",
       "text": [
        "\n",
        " - gender: male"
       ]
      },
      {
       "output_type": "stream",
       "stream": "stdout",
       "text": [
        "\n",
        " - gender: unknown"
       ]
      },
      {
       "output_type": "stream",
       "stream": "stdout",
       "text": [
        "\n",
        " - gender: unknown"
       ]
      },
      {
       "output_type": "stream",
       "stream": "stdout",
       "text": [
        "\n",
        " - gender: unknown"
       ]
      },
      {
       "output_type": "stream",
       "stream": "stdout",
       "text": [
        "\n",
        " - gender: unknown"
       ]
      },
      {
       "output_type": "stream",
       "stream": "stdout",
       "text": [
        "\n",
        " - gender: male"
       ]
      },
      {
       "output_type": "stream",
       "stream": "stdout",
       "text": [
        "\n",
        " - gender: male"
       ]
      },
      {
       "output_type": "stream",
       "stream": "stdout",
       "text": [
        "\n",
        " - gender: male"
       ]
      },
      {
       "output_type": "stream",
       "stream": "stdout",
       "text": [
        "\n",
        " - gender: unknown"
       ]
      },
      {
       "output_type": "stream",
       "stream": "stdout",
       "text": [
        "\n",
        " - gender: male"
       ]
      },
      {
       "output_type": "stream",
       "stream": "stdout",
       "text": [
        "\n",
        " - gender: male"
       ]
      },
      {
       "output_type": "stream",
       "stream": "stdout",
       "text": [
        "\n",
        " - gender: male"
       ]
      },
      {
       "output_type": "stream",
       "stream": "stdout",
       "text": [
        "\n",
        " Persis Drell\n",
        " - revisions: 4"
       ]
      },
      {
       "output_type": "stream",
       "stream": "stdout",
       "text": [
        "\n",
        " - gender: male"
       ]
      },
      {
       "output_type": "stream",
       "stream": "stdout",
       "text": [
        "\n",
        " - gender: male"
       ]
      },
      {
       "output_type": "stream",
       "stream": "stdout",
       "text": [
        "\n",
        " - gender: unknown"
       ]
      },
      {
       "output_type": "stream",
       "stream": "stdout",
       "text": [
        "\n",
        " - gender: female"
       ]
      },
      {
       "output_type": "stream",
       "stream": "stdout",
       "text": [
        "\n",
        " Mildred Dresselhaus\n",
        " - revisions: 7"
       ]
      },
      {
       "output_type": "stream",
       "stream": "stdout",
       "text": [
        "\n",
        " - gender: male"
       ]
      },
      {
       "output_type": "stream",
       "stream": "stdout",
       "text": [
        "\n",
        " - gender: unknown"
       ]
      },
      {
       "output_type": "stream",
       "stream": "stdout",
       "text": [
        "\n",
        " - gender: male"
       ]
      },
      {
       "output_type": "stream",
       "stream": "stdout",
       "text": [
        "\n",
        " - gender: male"
       ]
      },
      {
       "output_type": "stream",
       "stream": "stdout",
       "text": [
        "\n",
        " - gender: male"
       ]
      },
      {
       "output_type": "stream",
       "stream": "stdout",
       "text": [
        "\n",
        " - gender: male"
       ]
      },
      {
       "output_type": "stream",
       "stream": "stdout",
       "text": [
        "\n",
        " - gender: male"
       ]
      },
      {
       "output_type": "stream",
       "stream": "stdout",
       "text": [
        "\n",
        " Rosalind Franklin\n",
        " - revisions: 60"
       ]
      },
      {
       "output_type": "stream",
       "stream": "stdout",
       "text": [
        "\n",
        " - gender: unknown"
       ]
      },
      {
       "output_type": "stream",
       "stream": "stdout",
       "text": [
        "\n",
        " - gender: unknown"
       ]
      },
      {
       "output_type": "stream",
       "stream": "stdout",
       "text": [
        "\n",
        " - gender: male"
       ]
      },
      {
       "output_type": "stream",
       "stream": "stdout",
       "text": [
        "\n",
        " - gender: unknown"
       ]
      },
      {
       "output_type": "stream",
       "stream": "stdout",
       "text": [
        "\n",
        " - gender: male"
       ]
      },
      {
       "output_type": "stream",
       "stream": "stdout",
       "text": [
        "\n",
        " - gender: male"
       ]
      },
      {
       "output_type": "stream",
       "stream": "stdout",
       "text": [
        "\n",
        " - gender: male"
       ]
      },
      {
       "output_type": "stream",
       "stream": "stdout",
       "text": [
        "\n",
        " - gender: male"
       ]
      },
      {
       "output_type": "stream",
       "stream": "stdout",
       "text": [
        "\n",
        " - gender: male"
       ]
      },
      {
       "output_type": "stream",
       "stream": "stdout",
       "text": [
        "\n",
        " - gender: male"
       ]
      },
      {
       "output_type": "stream",
       "stream": "stdout",
       "text": [
        "\n",
        " - gender: unknown"
       ]
      },
      {
       "output_type": "stream",
       "stream": "stdout",
       "text": [
        "\n",
        " - gender: unknown"
       ]
      },
      {
       "output_type": "stream",
       "stream": "stdout",
       "text": [
        "\n",
        " - gender: unknown"
       ]
      },
      {
       "output_type": "stream",
       "stream": "stdout",
       "text": [
        "\n",
        " - gender: unknown"
       ]
      },
      {
       "output_type": "stream",
       "stream": "stdout",
       "text": [
        "\n",
        " - gender: male"
       ]
      },
      {
       "output_type": "stream",
       "stream": "stdout",
       "text": [
        "\n",
        " - gender: male"
       ]
      },
      {
       "output_type": "stream",
       "stream": "stdout",
       "text": [
        "\n",
        " - gender: unknown"
       ]
      },
      {
       "output_type": "stream",
       "stream": "stdout",
       "text": [
        "\n",
        " - gender: unknown"
       ]
      },
      {
       "output_type": "stream",
       "stream": "stdout",
       "text": [
        "\n",
        " - gender: male"
       ]
      },
      {
       "output_type": "stream",
       "stream": "stdout",
       "text": [
        "\n",
        " - gender: male"
       ]
      },
      {
       "output_type": "stream",
       "stream": "stdout",
       "text": [
        "\n",
        " - gender: unknown"
       ]
      },
      {
       "output_type": "stream",
       "stream": "stdout",
       "text": [
        "\n",
        " - gender: male"
       ]
      },
      {
       "output_type": "stream",
       "stream": "stdout",
       "text": [
        "\n",
        " - gender: male"
       ]
      },
      {
       "output_type": "stream",
       "stream": "stdout",
       "text": [
        "\n",
        " - gender: male"
       ]
      },
      {
       "output_type": "stream",
       "stream": "stdout",
       "text": [
        "\n",
        " - gender: male"
       ]
      },
      {
       "output_type": "stream",
       "stream": "stdout",
       "text": [
        "\n",
        " - gender: unknown"
       ]
      },
      {
       "output_type": "stream",
       "stream": "stdout",
       "text": [
        "\n",
        " - gender: male"
       ]
      },
      {
       "output_type": "stream",
       "stream": "stdout",
       "text": [
        "\n",
        " - gender: unknown"
       ]
      },
      {
       "output_type": "stream",
       "stream": "stdout",
       "text": [
        "\n",
        " - gender: male"
       ]
      },
      {
       "output_type": "stream",
       "stream": "stdout",
       "text": [
        "\n",
        " - gender: male"
       ]
      },
      {
       "output_type": "stream",
       "stream": "stdout",
       "text": [
        "\n",
        " - gender: male"
       ]
      },
      {
       "output_type": "stream",
       "stream": "stdout",
       "text": [
        "\n",
        " Katherine Freese\n",
        " - revisions: 4"
       ]
      },
      {
       "output_type": "stream",
       "stream": "stdout",
       "text": [
        "\n",
        " - gender: male"
       ]
      },
      {
       "output_type": "stream",
       "stream": "stdout",
       "text": [
        "\n",
        " - gender: unknown"
       ]
      },
      {
       "output_type": "stream",
       "stream": "stdout",
       "text": [
        "\n",
        " - gender: male"
       ]
      },
      {
       "output_type": "stream",
       "stream": "stdout",
       "text": [
        "\n",
        " - gender: male"
       ]
      },
      {
       "output_type": "stream",
       "stream": "stdout",
       "text": [
        "\n",
        " Sophie Germain\n",
        " - revisions: 7"
       ]
      },
      {
       "output_type": "stream",
       "stream": "stdout",
       "text": [
        "\n",
        " - gender: male"
       ]
      },
      {
       "output_type": "stream",
       "stream": "stdout",
       "text": [
        "\n",
        " - gender: unknown"
       ]
      },
      {
       "output_type": "stream",
       "stream": "stdout",
       "text": [
        "\n",
        " - gender: unknown"
       ]
      },
      {
       "output_type": "stream",
       "stream": "stdout",
       "text": [
        "\n",
        " - gender: male"
       ]
      },
      {
       "output_type": "stream",
       "stream": "stdout",
       "text": [
        "\n",
        " - gender: unknown"
       ]
      },
      {
       "output_type": "stream",
       "stream": "stdout",
       "text": [
        "\n",
        " Gertrude Scharff Goldhaber\n",
        " - revisions: 2"
       ]
      },
      {
       "output_type": "stream",
       "stream": "stdout",
       "text": [
        "\n",
        " - gender: male"
       ]
      },
      {
       "output_type": "stream",
       "stream": "stdout",
       "text": [
        "\n",
        " - gender: unknown"
       ]
      },
      {
       "output_type": "stream",
       "stream": "stdout",
       "text": [
        "\n",
        " Geertruida de Haas-Lorentz\n",
        " - revisions: 2"
       ]
      },
      {
       "output_type": "stream",
       "stream": "stdout",
       "text": [
        "\n",
        " - gender: male"
       ]
      },
      {
       "output_type": "stream",
       "stream": "stdout",
       "text": [
        "\n",
        " - gender: unknown"
       ]
      },
      {
       "output_type": "stream",
       "stream": "stdout",
       "text": [
        "\n",
        " Lene Hau\n",
        " - revisions: 4"
       ]
      },
      {
       "output_type": "stream",
       "stream": "stdout",
       "text": [
        "\n",
        " - gender: male"
       ]
      },
      {
       "output_type": "stream",
       "stream": "stdout",
       "text": [
        "\n",
        " - gender: male"
       ]
      },
      {
       "output_type": "stream",
       "stream": "stdout",
       "text": [
        "\n",
        " - gender: unknown"
       ]
      },
      {
       "output_type": "stream",
       "stream": "stdout",
       "text": [
        "\n",
        " Deborah Jin"
       ]
      },
      {
       "output_type": "stream",
       "stream": "stdout",
       "text": [
        "\n",
        " - revisions: 0"
       ]
      },
      {
       "output_type": "stream",
       "stream": "stdout",
       "text": [
        "\n",
        " H\u00e9l\u00e8ne Langevin-Joliot\n",
        " - revisions: 2"
       ]
      },
      {
       "output_type": "stream",
       "stream": "stdout",
       "text": [
        "\n",
        " - gender: male"
       ]
      },
      {
       "output_type": "stream",
       "stream": "stdout",
       "text": [
        "\n",
        " - gender: male"
       ]
      },
      {
       "output_type": "stream",
       "stream": "stdout",
       "text": [
        "\n",
        " Mileva Mari\u0107\n",
        " - revisions: 7"
       ]
      },
      {
       "output_type": "stream",
       "stream": "stdout",
       "text": [
        "\n",
        " - gender: unknown"
       ]
      },
      {
       "output_type": "stream",
       "stream": "stdout",
       "text": [
        "\n",
        " - gender: male"
       ]
      },
      {
       "output_type": "stream",
       "stream": "stdout",
       "text": [
        "\n",
        " - gender: unknown"
       ]
      },
      {
       "output_type": "stream",
       "stream": "stdout",
       "text": [
        "\n",
        " - gender: male"
       ]
      },
      {
       "output_type": "stream",
       "stream": "stdout",
       "text": [
        "\n",
        " - gender: male"
       ]
      },
      {
       "output_type": "stream",
       "stream": "stdout",
       "text": [
        "\n",
        " - gender: male"
       ]
      },
      {
       "output_type": "stream",
       "stream": "stdout",
       "text": [
        "\n",
        " - gender: male"
       ]
      },
      {
       "output_type": "stream",
       "stream": "stdout",
       "text": [
        "\n",
        " Lise Meitner\n",
        " - revisions: 18"
       ]
      },
      {
       "output_type": "stream",
       "stream": "stdout",
       "text": [
        "\n",
        " - gender: male"
       ]
      },
      {
       "output_type": "stream",
       "stream": "stdout",
       "text": [
        "\n",
        " - gender: male"
       ]
      },
      {
       "output_type": "stream",
       "stream": "stdout",
       "text": [
        "\n",
        " - gender: unknown"
       ]
      },
      {
       "output_type": "stream",
       "stream": "stdout",
       "text": [
        "\n",
        " - gender: unknown"
       ]
      },
      {
       "output_type": "stream",
       "stream": "stdout",
       "text": [
        "\n",
        " - gender: male"
       ]
      },
      {
       "output_type": "stream",
       "stream": "stdout",
       "text": [
        "\n",
        " - gender: male"
       ]
      },
      {
       "output_type": "stream",
       "stream": "stdout",
       "text": [
        "\n",
        " - gender: male"
       ]
      },
      {
       "output_type": "stream",
       "stream": "stdout",
       "text": [
        "\n",
        " - gender: male"
       ]
      },
      {
       "output_type": "stream",
       "stream": "stdout",
       "text": [
        "\n",
        " - gender: unknown"
       ]
      },
      {
       "output_type": "stream",
       "stream": "stdout",
       "text": [
        "\n",
        " - gender: male"
       ]
      },
      {
       "output_type": "stream",
       "stream": "stdout",
       "text": [
        "\n",
        " - gender: male"
       ]
      },
      {
       "output_type": "stream",
       "stream": "stdout",
       "text": [
        "\n",
        " - gender: male"
       ]
      },
      {
       "output_type": "stream",
       "stream": "stdout",
       "text": [
        "\n",
        " Melba Phillips\n",
        " - revisions: 1"
       ]
      },
      {
       "output_type": "stream",
       "stream": "stdout",
       "text": [
        "\n",
        " - gender: male"
       ]
      },
      {
       "output_type": "stream",
       "stream": "stdout",
       "text": [
        "\n",
        " Helen Quinn\n",
        " - revisions: 3"
       ]
      },
      {
       "output_type": "stream",
       "stream": "stdout",
       "text": [
        "\n",
        " - gender: male"
       ]
      },
      {
       "output_type": "stream",
       "stream": "stdout",
       "text": [
        "\n",
        " - gender: unknown"
       ]
      },
      {
       "output_type": "stream",
       "stream": "stdout",
       "text": [
        "\n",
        " - gender: male"
       ]
      },
      {
       "output_type": "stream",
       "stream": "stdout",
       "text": [
        "\n",
        " Lisa Randall\n",
        " - revisions: 5"
       ]
      },
      {
       "output_type": "stream",
       "stream": "stdout",
       "text": [
        "\n",
        " - gender: unknown"
       ]
      },
      {
       "output_type": "stream",
       "stream": "stdout",
       "text": [
        "\n",
        " - gender: female"
       ]
      },
      {
       "output_type": "stream",
       "stream": "stdout",
       "text": [
        "\n",
        " - gender: male"
       ]
      },
      {
       "output_type": "stream",
       "stream": "stdout",
       "text": [
        "\n",
        " - gender: unknown"
       ]
      },
      {
       "output_type": "stream",
       "stream": "stdout",
       "text": [
        "\n",
        " - gender: male"
       ]
      },
      {
       "output_type": "stream",
       "stream": "stdout",
       "text": [
        "\n",
        " Sally Ride\n",
        " - revisions: 7"
       ]
      },
      {
       "output_type": "stream",
       "stream": "stdout",
       "text": [
        "\n",
        " - gender: unknown"
       ]
      },
      {
       "output_type": "stream",
       "stream": "stdout",
       "text": [
        "\n",
        " - gender: male"
       ]
      },
      {
       "output_type": "stream",
       "stream": "stdout",
       "text": [
        "\n",
        " - gender: unknown"
       ]
      },
      {
       "output_type": "stream",
       "stream": "stdout",
       "text": [
        "\n",
        " - gender: unknown"
       ]
      },
      {
       "output_type": "stream",
       "stream": "stdout",
       "text": [
        "\n",
        " - gender: unknown"
       ]
      },
      {
       "output_type": "stream",
       "stream": "stdout",
       "text": [
        "\n",
        " - gender: unknown"
       ]
      },
      {
       "output_type": "stream",
       "stream": "stdout",
       "text": [
        "\n",
        " Vera Rubin\n",
        "Server lag, sleeping for 6 seconds"
       ]
      },
      {
       "output_type": "stream",
       "stream": "stdout",
       "text": [
        "\n",
        "Server lag, sleeping for 16 seconds"
       ]
      },
      {
       "output_type": "stream",
       "stream": "stdout",
       "text": [
        "\n",
        " - revisions: 9"
       ]
      },
      {
       "output_type": "stream",
       "stream": "stdout",
       "text": [
        "\n",
        " - gender: unknown"
       ]
      },
      {
       "output_type": "stream",
       "stream": "stdout",
       "text": [
        "\n",
        " - gender: male"
       ]
      },
      {
       "output_type": "stream",
       "stream": "stdout",
       "text": [
        "\n",
        " - gender: male"
       ]
      },
      {
       "output_type": "stream",
       "stream": "stdout",
       "text": [
        "\n",
        " - gender: male"
       ]
      },
      {
       "output_type": "stream",
       "stream": "stdout",
       "text": [
        "\n",
        " - gender: unknown"
       ]
      },
      {
       "output_type": "stream",
       "stream": "stdout",
       "text": [
        "\n",
        " - gender: unknown"
       ]
      },
      {
       "output_type": "stream",
       "stream": "stdout",
       "text": [
        "\n",
        " - gender: unknown"
       ]
      },
      {
       "output_type": "stream",
       "stream": "stdout",
       "text": [
        "\n",
        " - gender: male"
       ]
      },
      {
       "output_type": "stream",
       "stream": "stdout",
       "text": [
        "\n",
        " Myriam Sarachik"
       ]
      },
      {
       "output_type": "stream",
       "stream": "stdout",
       "text": [
        "\n",
        " - revisions: 2"
       ]
      },
      {
       "output_type": "stream",
       "stream": "stdout",
       "text": [
        "\n",
        " - gender: male"
       ]
      },
      {
       "output_type": "stream",
       "stream": "stdout",
       "text": [
        "\n",
        " - gender: unknown"
       ]
      },
      {
       "output_type": "stream",
       "stream": "stdout",
       "text": [
        "\n",
        " Chien-Shiung Wu\n",
        " - revisions: 7"
       ]
      },
      {
       "output_type": "stream",
       "stream": "stdout",
       "text": [
        "\n",
        " - gender: male"
       ]
      },
      {
       "output_type": "stream",
       "stream": "stdout",
       "text": [
        "\n",
        " - gender: male"
       ]
      },
      {
       "output_type": "stream",
       "stream": "stdout",
       "text": [
        "\n",
        " - gender: male"
       ]
      },
      {
       "output_type": "stream",
       "stream": "stdout",
       "text": [
        "\n",
        " - gender: unknown"
       ]
      },
      {
       "output_type": "stream",
       "stream": "stdout",
       "text": [
        "\n",
        " - gender: male"
       ]
      },
      {
       "output_type": "stream",
       "stream": "stdout",
       "text": [
        "\n",
        " - gender: unknown"
       ]
      },
      {
       "output_type": "stream",
       "stream": "stdout",
       "text": [
        "\n",
        " Rosalyn Yalow\n",
        " - revisions: 0"
       ]
      },
      {
       "output_type": "stream",
       "stream": "stdout",
       "text": [
        "\n",
        " >> Categoria:Astr\u00f4nomas <<\n",
        " Madge Adam"
       ]
      },
      {
       "output_type": "stream",
       "stream": "stdout",
       "text": [
        "\n",
        " - revisions: 2"
       ]
      },
      {
       "output_type": "stream",
       "stream": "stdout",
       "text": [
        "\n",
        " - gender: unknown"
       ]
      },
      {
       "output_type": "stream",
       "stream": "stdout",
       "text": [
        "\n",
        " - gender: male"
       ]
      },
      {
       "output_type": "stream",
       "stream": "stdout",
       "text": [
        "\n",
        " Aglaonice (astr\u00f4noma)\n",
        " - revisions: 4"
       ]
      },
      {
       "output_type": "stream",
       "stream": "stdout",
       "text": [
        "\n",
        " - gender: male"
       ]
      },
      {
       "output_type": "stream",
       "stream": "stdout",
       "text": [
        "\n",
        " - gender: male"
       ]
      },
      {
       "output_type": "stream",
       "stream": "stdout",
       "text": [
        "\n",
        " - gender: unknown"
       ]
      },
      {
       "output_type": "stream",
       "stream": "stdout",
       "text": [
        "\n",
        " - gender: male"
       ]
      },
      {
       "output_type": "stream",
       "stream": "stdout",
       "text": [
        "\n",
        " Jocelyn Bell Burnell\n",
        "*** Duplicate page skipped: Jocelyn Bell Burnell\n",
        " Margaret Burbidge\n",
        " - revisions: 4"
       ]
      },
      {
       "output_type": "stream",
       "stream": "stdout",
       "text": [
        "\n",
        " - gender: unknown"
       ]
      },
      {
       "output_type": "stream",
       "stream": "stdout",
       "text": [
        "\n",
        " - gender: unknown"
       ]
      },
      {
       "output_type": "stream",
       "stream": "stdout",
       "text": [
        "\n",
        " - gender: male"
       ]
      },
      {
       "output_type": "stream",
       "stream": "stdout",
       "text": [
        "\n",
        " - gender: male"
       ]
      },
      {
       "output_type": "stream",
       "stream": "stdout",
       "text": [
        "\n",
        " Annie Jump Cannon\n",
        " - revisions: 4"
       ]
      },
      {
       "output_type": "stream",
       "stream": "stdout",
       "text": [
        "\n",
        " - gender: unknown"
       ]
      },
      {
       "output_type": "stream",
       "stream": "stdout",
       "text": [
        "\n",
        " - gender: unknown"
       ]
      },
      {
       "output_type": "stream",
       "stream": "stdout",
       "text": [
        "\n",
        " - gender: male"
       ]
      },
      {
       "output_type": "stream",
       "stream": "stdout",
       "text": [
        "\n",
        " - gender: unknown"
       ]
      },
      {
       "output_type": "stream",
       "stream": "stdout",
       "text": [
        "\n",
        " Robin Canup\n",
        " - revisions: 2"
       ]
      },
      {
       "output_type": "stream",
       "stream": "stdout",
       "text": [
        "\n",
        " - gender: male"
       ]
      },
      {
       "output_type": "stream",
       "stream": "stdout",
       "text": [
        "\n",
        " - gender: unknown"
       ]
      },
      {
       "output_type": "stream",
       "stream": "stdout",
       "text": [
        "\n",
        " Lyudmila Ivanovna Chernykh\n",
        " - revisions: 0"
       ]
      },
      {
       "output_type": "stream",
       "stream": "stdout",
       "text": [
        "\n",
        " Elena V. Pitjeva\n",
        " - revisions: 2"
       ]
      },
      {
       "output_type": "stream",
       "stream": "stdout",
       "text": [
        "\n",
        " - gender: unknown"
       ]
      },
      {
       "output_type": "stream",
       "stream": "stdout",
       "text": [
        "\n",
        " - gender: unknown"
       ]
      },
      {
       "output_type": "stream",
       "stream": "stdout",
       "text": [
        "\n",
        " Sandra Faber\n",
        " - revisions: 6"
       ]
      },
      {
       "output_type": "stream",
       "stream": "stdout",
       "text": [
        "\n",
        " - gender: male"
       ]
      },
      {
       "output_type": "stream",
       "stream": "stdout",
       "text": [
        "\n",
        " - gender: male"
       ]
      },
      {
       "output_type": "stream",
       "stream": "stdout",
       "text": [
        "\n",
        " - gender: unknown"
       ]
      },
      {
       "output_type": "stream",
       "stream": "stdout",
       "text": [
        "\n",
        " - gender: male"
       ]
      },
      {
       "output_type": "stream",
       "stream": "stdout",
       "text": [
        "\n",
        " - gender: male"
       ]
      },
      {
       "output_type": "stream",
       "stream": "stdout",
       "text": [
        "\n",
        " - gender: male"
       ]
      },
      {
       "output_type": "stream",
       "stream": "stdout",
       "text": [
        "\n",
        " Katherine Freese\n",
        "*** Duplicate page skipped: Katherine Freese\n",
        " Catharine Garmany\n",
        " - revisions: 1"
       ]
      },
      {
       "output_type": "stream",
       "stream": "stdout",
       "text": [
        "\n",
        " - gender: male"
       ]
      },
      {
       "output_type": "stream",
       "stream": "stdout",
       "text": [
        "\n",
        " Eleanor F. Helin\n",
        " - revisions: 4"
       ]
      },
      {
       "output_type": "stream",
       "stream": "stdout",
       "text": [
        "\n",
        " - gender: unknown"
       ]
      },
      {
       "output_type": "stream",
       "stream": "stdout",
       "text": [
        "\n",
        " - gender: male"
       ]
      },
      {
       "output_type": "stream",
       "stream": "stdout",
       "text": [
        "\n",
        " - gender: unknown"
       ]
      },
      {
       "output_type": "stream",
       "stream": "stdout",
       "text": [
        "\n",
        " - gender: unknown"
       ]
      },
      {
       "output_type": "stream",
       "stream": "stdout",
       "text": [
        "\n",
        " Caroline Herschel\n",
        " - revisions: 7"
       ]
      },
      {
       "output_type": "stream",
       "stream": "stdout",
       "text": [
        "\n",
        " - gender: unknown"
       ]
      },
      {
       "output_type": "stream",
       "stream": "stdout",
       "text": [
        "\n",
        " - gender: male"
       ]
      },
      {
       "output_type": "stream",
       "stream": "stdout",
       "text": [
        "\n",
        " - gender: unknown"
       ]
      },
      {
       "output_type": "stream",
       "stream": "stdout",
       "text": [
        "\n",
        " - gender: male"
       ]
      },
      {
       "output_type": "stream",
       "stream": "stdout",
       "text": [
        "\n",
        " - gender: male"
       ]
      },
      {
       "output_type": "stream",
       "stream": "stdout",
       "text": [
        "\n",
        " - gender: male"
       ]
      },
      {
       "output_type": "stream",
       "stream": "stdout",
       "text": [
        "\n",
        " Helen Sawyer Hogg\n",
        " - revisions: 2"
       ]
      },
      {
       "output_type": "stream",
       "stream": "stdout",
       "text": [
        "\n",
        " - gender: unknown"
       ]
      },
      {
       "output_type": "stream",
       "stream": "stdout",
       "text": [
        "\n",
        " - gender: male"
       ]
      },
      {
       "output_type": "stream",
       "stream": "stdout",
       "text": [
        "\n",
        " Henrietta Swan Leavitt\n",
        " - revisions: 21"
       ]
      },
      {
       "output_type": "stream",
       "stream": "stdout",
       "text": [
        "\n",
        " - gender: unknown"
       ]
      },
      {
       "output_type": "stream",
       "stream": "stdout",
       "text": [
        "\n",
        " - gender: male"
       ]
      },
      {
       "output_type": "stream",
       "stream": "stdout",
       "text": [
        "\n",
        " - gender: unknown"
       ]
      },
      {
       "output_type": "stream",
       "stream": "stdout",
       "text": [
        "\n",
        " - gender: male"
       ]
      },
      {
       "output_type": "stream",
       "stream": "stdout",
       "text": [
        "\n",
        " - gender: unknown"
       ]
      },
      {
       "output_type": "stream",
       "stream": "stdout",
       "text": [
        "\n",
        " - gender: unknown"
       ]
      },
      {
       "output_type": "stream",
       "stream": "stdout",
       "text": [
        "\n",
        " - gender: unknown"
       ]
      },
      {
       "output_type": "stream",
       "stream": "stdout",
       "text": [
        "\n",
        " - gender: unknown"
       ]
      },
      {
       "output_type": "stream",
       "stream": "stdout",
       "text": [
        "\n",
        " - gender: unknown"
       ]
      },
      {
       "output_type": "stream",
       "stream": "stdout",
       "text": [
        "\n",
        " - gender: unknown"
       ]
      },
      {
       "output_type": "stream",
       "stream": "stdout",
       "text": [
        "\n",
        " - gender: unknown"
       ]
      },
      {
       "output_type": "stream",
       "stream": "stdout",
       "text": [
        "\n",
        " - gender: male"
       ]
      },
      {
       "output_type": "stream",
       "stream": "stdout",
       "text": [
        "\n",
        " - gender: male"
       ]
      },
      {
       "output_type": "stream",
       "stream": "stdout",
       "text": [
        "\n",
        " - gender: male"
       ]
      },
      {
       "output_type": "stream",
       "stream": "stdout",
       "text": [
        "\n",
        " - gender: male"
       ]
      },
      {
       "output_type": "stream",
       "stream": "stdout",
       "text": [
        "\n",
        " - gender: unknown"
       ]
      },
      {
       "output_type": "stream",
       "stream": "stdout",
       "text": [
        "\n",
        " - gender: unknown"
       ]
      },
      {
       "output_type": "stream",
       "stream": "stdout",
       "text": [
        "\n",
        " - gender: unknown"
       ]
      },
      {
       "output_type": "stream",
       "stream": "stdout",
       "text": [
        "\n",
        " Jane Luu\n",
        " - revisions: 10"
       ]
      },
      {
       "output_type": "stream",
       "stream": "stdout",
       "text": [
        "\n",
        " - gender: male"
       ]
      },
      {
       "output_type": "stream",
       "stream": "stdout",
       "text": [
        "\n",
        " - gender: male"
       ]
      },
      {
       "output_type": "stream",
       "stream": "stdout",
       "text": [
        "\n",
        " - gender: male"
       ]
      },
      {
       "output_type": "stream",
       "stream": "stdout",
       "text": [
        "\n",
        " - gender: unknown"
       ]
      },
      {
       "output_type": "stream",
       "stream": "stdout",
       "text": [
        "\n",
        " - gender: unknown"
       ]
      },
      {
       "output_type": "stream",
       "stream": "stdout",
       "text": [
        "\n",
        " - gender: unknown"
       ]
      },
      {
       "output_type": "stream",
       "stream": "stdout",
       "text": [
        "\n",
        " - gender: unknown"
       ]
      },
      {
       "output_type": "stream",
       "stream": "stdout",
       "text": [
        "\n",
        " - gender: male"
       ]
      },
      {
       "output_type": "stream",
       "stream": "stdout",
       "text": [
        "\n",
        " - gender: unknown"
       ]
      },
      {
       "output_type": "stream",
       "stream": "stdout",
       "text": [
        "\n",
        " - gender: male"
       ]
      },
      {
       "output_type": "stream",
       "stream": "stdout",
       "text": [
        "\n",
        " Maria Mitchell\n",
        " - revisions: 2"
       ]
      },
      {
       "output_type": "stream",
       "stream": "stdout",
       "text": [
        "\n",
        " - gender: unknown"
       ]
      },
      {
       "output_type": "stream",
       "stream": "stdout",
       "text": [
        "\n",
        " - gender: male"
       ]
      },
      {
       "output_type": "stream",
       "stream": "stdout",
       "text": [
        "\n",
        " Cecilia Payne-Gaposchkin\n",
        " - revisions: 6"
       ]
      },
      {
       "output_type": "stream",
       "stream": "stdout",
       "text": [
        "\n",
        " - gender: male"
       ]
      },
      {
       "output_type": "stream",
       "stream": "stdout",
       "text": [
        "\n",
        " - gender: unknown"
       ]
      },
      {
       "output_type": "stream",
       "stream": "stdout",
       "text": [
        "\n",
        " - gender: unknown"
       ]
      },
      {
       "output_type": "stream",
       "stream": "stdout",
       "text": [
        "\n",
        " - gender: unknown"
       ]
      },
      {
       "output_type": "stream",
       "stream": "stdout",
       "text": [
        "\n",
        " Ruby Payne-Scott\n",
        " - revisions: 5"
       ]
      },
      {
       "output_type": "stream",
       "stream": "stdout",
       "text": [
        "\n",
        " - gender: male"
       ]
      },
      {
       "output_type": "stream",
       "stream": "stdout",
       "text": [
        "\n",
        " - gender: male"
       ]
      },
      {
       "output_type": "stream",
       "stream": "stdout",
       "text": [
        "\n",
        " - gender: male"
       ]
      },
      {
       "output_type": "stream",
       "stream": "stdout",
       "text": [
        "\n",
        " - gender: unknown"
       ]
      },
      {
       "output_type": "stream",
       "stream": "stdout",
       "text": [
        "\n",
        " - gender: male"
       ]
      },
      {
       "output_type": "stream",
       "stream": "stdout",
       "text": [
        "\n",
        " Carolyn Porco\n",
        " - revisions: 7"
       ]
      },
      {
       "output_type": "stream",
       "stream": "stdout",
       "text": [
        "\n",
        " - gender: unknown"
       ]
      },
      {
       "output_type": "stream",
       "stream": "stdout",
       "text": [
        "\n",
        " - gender: unknown"
       ]
      },
      {
       "output_type": "stream",
       "stream": "stdout",
       "text": [
        "\n",
        " - gender: male"
       ]
      },
      {
       "output_type": "stream",
       "stream": "stdout",
       "text": [
        "\n",
        " - gender: unknown"
       ]
      },
      {
       "output_type": "stream",
       "stream": "stdout",
       "text": [
        "\n",
        " - gender: unknown"
       ]
      },
      {
       "output_type": "stream",
       "stream": "stdout",
       "text": [
        "\n",
        " - gender: unknown"
       ]
      },
      {
       "output_type": "stream",
       "stream": "stdout",
       "text": [
        "\n",
        " - gender: male"
       ]
      },
      {
       "output_type": "stream",
       "stream": "stdout",
       "text": [
        "\n",
        " Vera Rubin\n",
        "*** Duplicate page skipped: Vera Rubin\n",
        " Lenka \u0160arounov\u00e1\n",
        " - revisions: 0"
       ]
      },
      {
       "output_type": "stream",
       "stream": "stdout",
       "text": [
        "\n",
        " Caterina Scarpellini\n",
        " - revisions: 1"
       ]
      },
      {
       "output_type": "stream",
       "stream": "stdout",
       "text": [
        "\n",
        " - gender: male"
       ]
      },
      {
       "output_type": "stream",
       "stream": "stdout",
       "text": [
        "\n",
        " Carolyn Shoemaker\n",
        " - revisions: 0"
       ]
      },
      {
       "output_type": "stream",
       "stream": "stdout",
       "text": [
        "\n",
        " Tamara Mikhailovna Smirnova\n",
        " - revisions: 0"
       ]
      },
      {
       "output_type": "stream",
       "stream": "stdout",
       "text": [
        "\n",
        " Beatrice Tinsley\n",
        " - revisions: 2"
       ]
      },
      {
       "output_type": "stream",
       "stream": "stdout",
       "text": [
        "\n",
        " - gender: male"
       ]
      },
      {
       "output_type": "stream",
       "stream": "stdout",
       "text": [
        "\n",
        " - gender: male"
       ]
      },
      {
       "output_type": "stream",
       "stream": "stdout",
       "text": [
        "\n",
        " Zde\u0148ka V\u00e1vrov\u00e1\n",
        " - revisions: 2"
       ]
      },
      {
       "output_type": "stream",
       "stream": "stdout",
       "text": [
        "\n",
        " - gender: unknown"
       ]
      },
      {
       "output_type": "stream",
       "stream": "stdout",
       "text": [
        "\n",
        " - gender: unknown"
       ]
      },
      {
       "output_type": "stream",
       "stream": "stdout",
       "text": [
        "\n",
        " Lyudmila Zhuravlyova\n",
        " - revisions: 4"
       ]
      },
      {
       "output_type": "stream",
       "stream": "stdout",
       "text": [
        "\n",
        " - gender: unknown"
       ]
      },
      {
       "output_type": "stream",
       "stream": "stdout",
       "text": [
        "\n",
        " - gender: unknown"
       ]
      },
      {
       "output_type": "stream",
       "stream": "stdout",
       "text": [
        "\n",
        " - gender: unknown"
       ]
      },
      {
       "output_type": "stream",
       "stream": "stdout",
       "text": [
        "\n",
        " - gender: unknown"
       ]
      },
      {
       "output_type": "stream",
       "stream": "stdout",
       "text": [
        "\n",
        "\n",
        "Language: pt\n",
        "-----\n",
        "m: 152\n",
        "f: 6\n",
        "other: 127\n",
        "unknown: 91\n",
        "total: 376\n",
        "\n"
       ]
      }
     ],
     "prompt_number": 50
    },
    {
     "cell_type": "code",
     "collapsed": false,
     "input": [],
     "language": "python",
     "metadata": {},
     "outputs": [],
     "prompt_number": 9
    }
   ],
   "metadata": {}
  }
 ]
}